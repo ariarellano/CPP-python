{
 "cells": [
  {
   "cell_type": "markdown",
   "metadata": {},
   "source": [
    "# GBA 6070 - Programming Foundation for Business Analytics\n",
    "# Dr. Mohammad Salehan\n",
    "# Midterm Exam"
   ]
  },
  {
   "cell_type": "markdown",
   "metadata": {},
   "source": [
    "This exam is worth 200 points equal to 20% of your final score."
   ]
  },
  {
   "cell_type": "markdown",
   "metadata": {},
   "source": [
    "## Prerequisites\n",
    "Here, I introduce a few new concepts that you will need in this assignment."
   ]
  },
  {
   "cell_type": "markdown",
   "metadata": {},
   "source": [
    "### datetime object\n",
    "datetime class allows you to create datetime objects. Below you see how to create one:"
   ]
  },
  {
   "cell_type": "code",
   "execution_count": null,
   "metadata": {},
   "outputs": [],
   "source": [
    "import datetime\n",
    "#format: year, month, day\n",
    "date = datetime.datetime(2022, 10, 7)\n",
    "date"
   ]
  },
  {
   "cell_type": "markdown",
   "metadata": {},
   "source": [
    "### String.split() method\n",
    "Allows you to split a string based on a given separator. The default value for separator is ' ' (i.e., one blank space). The method returns a list of string values resulting from splitting. Here is an example:"
   ]
  },
  {
   "cell_type": "code",
   "execution_count": null,
   "metadata": {},
   "outputs": [],
   "source": [
    "s = 'It is a good day'\n",
    "r = s.split()\n",
    "r"
   ]
  },
  {
   "cell_type": "markdown",
   "metadata": {},
   "source": [
    "You can provide your own separator. For example, here I split using the vertical bar character (|):"
   ]
  },
  {
   "cell_type": "code",
   "execution_count": null,
   "metadata": {},
   "outputs": [],
   "source": [
    "s = 'one|two|three|four'\n",
    "r = s.split('|')\n",
    "r"
   ]
  },
  {
   "cell_type": "markdown",
   "metadata": {},
   "source": [
    "## Q1 (20 points)\n",
    "Write a function that accepts a list of integers and returns a new list containing even numbers from the input list."
   ]
  },
  {
   "cell_type": "code",
   "execution_count": 40,
   "metadata": {},
   "outputs": [
    {
     "name": "stdout",
     "output_type": "stream",
     "text": [
      "[2, 4, 6, 8, 10, 12, 14, 16, 18, 20, 22, 24, 26, 28, 30, 32, 34, 36, 38, 40, 42, 44, 46, 48]\n"
     ]
    }
   ],
   "source": [
    "def generate_evens():\n",
    "    result = []\n",
    "    for x in range(1, 50):\n",
    "        if x % 2 == 0:\n",
    "            result.append(x)\n",
    "    return result\n",
    "\n",
    "print(generate_evens())"
   ]
  },
  {
   "cell_type": "markdown",
   "metadata": {},
   "source": [
    "## Q2 (20 points)\n",
    "Write a program that keeps reading numbers from input until number -100 is entered. Then, the program prints the frequency of each value. For example if 1,1,3,7,-100 are enetered the program prints:  \n",
    "1: 2  \n",
    "3: 1  \n",
    "7: 1   \n",
    "You need to validate the input to make sure it is integer. Using a list is acceptable but the program can be written without saving all values in memory."
   ]
  },
  {
   "cell_type": "code",
   "execution_count": null,
   "metadata": {},
   "outputs": [],
   "source": []
  },
  {
   "cell_type": "markdown",
   "metadata": {},
   "source": [
    "## Q3 (20 points)\n",
    "Write a function that accepts a string and returns the most frequent word in it and its frequency."
   ]
  },
  {
   "cell_type": "code",
   "execution_count": 41,
   "metadata": {},
   "outputs": [
    {
     "data": {
      "text/plain": [
       "['python', 'i']"
      ]
     },
     "execution_count": 41,
     "metadata": {},
     "output_type": "execute_result"
    }
   ],
   "source": [
    "import operator\n",
    "def top_k_words(s, k):\n",
    "    clean_s = \"\"\n",
    "    for c in s:\n",
    "        if c.isalpha() or c==' ':\n",
    "            clean_s += c\n",
    "    strs = clean_s.split(\" \")\n",
    "    freq = {}\n",
    "    for ss in strs:\n",
    "        freq[ss] = 0\n",
    "    for ss in strs:\n",
    "        freq[ss] += 1\n",
    "    freq = dict( sorted(freq.items(), key=operator.itemgetter(1),reverse=True))\n",
    "    ans = []\n",
    "    for x in freq.keys():\n",
    "        ans.append(x)\n",
    "    return ans[0:k]\n",
    "\n",
    "top_k_words(\"i love python, she likes coding python; the course is about python.. \",2)"
   ]
  },
  {
   "cell_type": "markdown",
   "metadata": {},
   "source": [
    "## Q4 (20 points)\n",
    "Write a function that finds the number of zeros at the end of an integer. For example, it will return 3 for 12000."
   ]
  },
  {
   "cell_type": "code",
   "execution_count": 42,
   "metadata": {},
   "outputs": [
    {
     "name": "stdout",
     "output_type": "stream",
     "text": [
      "4\n"
     ]
    }
   ],
   "source": [
    "num = 180370000\n",
    "number_of_zero =0\n",
    "\n",
    "while not num%10:\n",
    "    number_of_zero +=1\n",
    "    num=num/10\n",
    "\n",
    "print(number_of_zero)"
   ]
  },
  {
   "cell_type": "markdown",
   "metadata": {},
   "source": [
    "## Q5 (20 points)\n",
    "Write a function that returns the distinct words in a string. For example, given the string `\"I am happy and I am sad\"` as input, the function returns `[\"I\", \"am\", \"happy\", \"and\", \"sad\"]`."
   ]
  },
  {
   "cell_type": "code",
   "execution_count": 43,
   "metadata": {},
   "outputs": [
    {
     "name": "stdout",
     "output_type": "stream",
     "text": [
      "['I', 'am', 'happy', 'and', 'sad']\n"
     ]
    }
   ],
   "source": [
    "a = \"I am happy and I am sad\"\n",
    "b = []\n",
    "\n",
    "for w in a.split():\n",
    "    if w not in b:\n",
    "        b.append(w)\n",
    "        \n",
    "print(b)"
   ]
  },
  {
   "cell_type": "markdown",
   "metadata": {},
   "source": [
    "## Q6 (20 points)\n",
    "Write a function that subtracts from an integer the sum of its digits and returns the result. For example for 123 the results will be 123 - (1+2+3) = 117."
   ]
  },
  {
   "cell_type": "code",
   "execution_count": 44,
   "metadata": {},
   "outputs": [
    {
     "name": "stdout",
     "output_type": "stream",
     "text": [
      "Enter a number : 123\n",
      "Result : 117\n"
     ]
    }
   ],
   "source": [
    "def getSum(n):   \n",
    "    res = 0\n",
    "    sum = 0\n",
    "    for digit in str(n): \n",
    "          sum += int(digit)\n",
    "    res = int(n) - sum\n",
    "    return res\n",
    "\n",
    "n = input(\"Enter a number : \")\n",
    "res = getSum(n)\n",
    "\n",
    "print(\"Result :\",res)"
   ]
  },
  {
   "cell_type": "markdown",
   "metadata": {},
   "source": [
    "## Q7 (20 points)\n",
    "Write a function that returns all divisors of a given inetger."
   ]
  },
  {
   "cell_type": "code",
   "execution_count": 45,
   "metadata": {},
   "outputs": [
    {
     "name": "stdout",
     "output_type": "stream",
     "text": [
      "The divisors are: \n",
      "1 2 4 5 10 20 25 50 100 "
     ]
    }
   ],
   "source": [
    "def printDivisors(n) :\n",
    "    i = 1\n",
    "    while i <= n :\n",
    "        if (n % i==0) :\n",
    "            print (i,end=\" \")\n",
    "        i = i + 1\n",
    "x=100\n",
    "print (\"The divisors are: \")\n",
    "printDivisors(x)"
   ]
  },
  {
   "cell_type": "markdown",
   "metadata": {},
   "source": [
    "## Q8 (20 points)\n",
    "Write a function that returns the common divisors of 2 integers."
   ]
  },
  {
   "cell_type": "code",
   "execution_count": 46,
   "metadata": {},
   "outputs": [
    {
     "name": "stdout",
     "output_type": "stream",
     "text": [
      "[1, 2, 3, 4, 6, 12]\n"
     ]
    }
   ],
   "source": [
    "def cf(num1,num2):\n",
    "    n=[]\n",
    "    for i in range(1, min(num1, num2)+1): \n",
    "        if num1%i==num2%i==0: \n",
    "            n.append(i)\n",
    "    return n\n",
    "\n",
    "print(cf(12,144))"
   ]
  },
  {
   "cell_type": "markdown",
   "metadata": {},
   "source": [
    "## Q9. Acount Class (20 points)\n",
    "The class represents a bank account and has 5 attributes: account_id (int), first_name (str), last_name (str), dob (datetime), and balance (int). Follow the intructions to implement the methods. Your job is to add code where needed. You need to remove all occurences of keyword 'pass' and replace it with your own code."
   ]
  },
  {
   "cell_type": "code",
   "execution_count": null,
   "metadata": {},
   "outputs": [],
   "source": []
  },
  {
   "cell_type": "markdown",
   "metadata": {},
   "source": [
    "Run the cell below to test your class. The output should look like this:<br><br>\n",
    "The new balance is \\\\$150<br>\n",
    "The new balance is \\\\$140<br>\n",
    "Cannot withdraw \\\\$200 due to insifficient funds.<br>\n",
    "account id: 1, Owner: Mohammad Salehan, balance: \\$140"
   ]
  },
  {
   "cell_type": "code",
   "execution_count": null,
   "metadata": {},
   "outputs": [],
   "source": [
    "account = Account(1, 'Mohammad', 'Salehan', datetime.datetime(1983, 5, 17), 100)\n",
    "account.deposit(50)\n",
    "return(\"The new balance is $150\")\n",
    "account.withdraw(10)\n",
    "return(\"The new balance is $140\")\n",
    "account.withdraw(200)\n",
    "return(\"Cannot withdraw $200 due to insifficient funds.\")\n",
    "print(account)"
   ]
  },
  {
   "cell_type": "markdown",
   "metadata": {},
   "source": [
    "# Q.10 GPA (20 points)\n",
    "a. Make a class for student. The class must contain 3 data attributes: student ID (`string`), name (`string`), and courses (`dictionary`). The class `constructor` would accept 3 parameters to set the values for these 3 attributes. The courses `dictionary` maps courses (keys) to grades (values). Assume that the only possible grades are A, B, C, D, and F. Add a function named `calculate_gpa` that calculates and returns the GPA of the student. Here is how much each grade contributes to the GPA: A: 4, B: 3, C: 2, D: 1, and F: zero."
   ]
  },
  {
   "cell_type": "code",
   "execution_count": 47,
   "metadata": {},
   "outputs": [],
   "source": [
    "class Student:\n",
    "    def __init__(self,studentID,name,courses):#initialize values\n",
    "        self.studentID=studentID\n",
    "        self.name=name\n",
    "        self.courses=courses\n",
    "        \n",
    "    def calculate_gpa(self):\n",
    "        gpa=0\n",
    "        for x in self.courses.values():#check for each grade\n",
    "            if x=='A':\n",
    "                gpa=gpa+4\n",
    "            if x=='B':\n",
    "                gpa=gpa+3\n",
    "            if x=='C':\n",
    "                gpa=gpa+2\n",
    "            if x=='D':\n",
    "                gpa=gpa+1\n",
    "            if x=='F':\n",
    "                gpa=gpa+0\n",
    "        return gpa/len(self.courses)"
   ]
  },
  {
   "cell_type": "markdown",
   "metadata": {},
   "source": [
    "b. Create a new student with at least 4 courses and their corrosponding grades. Calculate the student's GPA by invoking `calculate_gpa` function."
   ]
  },
  {
   "cell_type": "code",
   "execution_count": 48,
   "metadata": {},
   "outputs": [
    {
     "name": "stdout",
     "output_type": "stream",
     "text": [
      "2.75\n"
     ]
    }
   ],
   "source": [
    "s1=Student(\"1234\",\"Ariana\",{\"Math\":'C',\"Science\":'C',\"Economics\":'A',\"English\":'B'})\n",
    "print(s1.calculate_gpa())"
   ]
  },
  {
   "cell_type": "code",
   "execution_count": null,
   "metadata": {},
   "outputs": [],
   "source": []
  }
 ],
 "metadata": {
  "kernelspec": {
   "display_name": "Python 3 (ipykernel)",
   "language": "python",
   "name": "python3"
  },
  "language_info": {
   "codemirror_mode": {
    "name": "ipython",
    "version": 3
   },
   "file_extension": ".py",
   "mimetype": "text/x-python",
   "name": "python",
   "nbconvert_exporter": "python",
   "pygments_lexer": "ipython3",
   "version": "3.9.12"
  }
 },
 "nbformat": 4,
 "nbformat_minor": 4
}
