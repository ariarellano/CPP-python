{
 "cells": [
  {
   "cell_type": "markdown",
   "metadata": {},
   "source": [
    "# GBA 6070 - Programming Foundation for Business Analytics\n",
    "# Dr. Mohammad Salehan\n",
    "# Assignment 8 - Multidimensioal Arrays\n",
    "Runt the cell below to set up your notebook. Each cell should start with np.random.seed(0) to make the results consistent for all students."
   ]
  },
  {
   "cell_type": "code",
   "execution_count": 1,
   "metadata": {},
   "outputs": [],
   "source": [
    "import numpy as np\n",
    "np.random.seed(0)"
   ]
  },
  {
   "cell_type": "markdown",
   "metadata": {},
   "source": [
    "1. Create a 4x4 array that contains numbers 1-16."
   ]
  },
  {
   "cell_type": "code",
   "execution_count": 4,
   "metadata": {},
   "outputs": [
    {
     "data": {
      "text/plain": [
       "array([[ 1,  2,  3,  4],\n",
       "       [ 5,  6,  7,  8],\n",
       "       [ 9, 10, 11, 12],\n",
       "       [13, 14, 15, 16]])"
      ]
     },
     "execution_count": 4,
     "metadata": {},
     "output_type": "execute_result"
    }
   ],
   "source": [
    "np.random.seed(0)\n",
    "a = np.arange(1, 17).reshape(4,4)\n",
    "a"
   ]
  },
  {
   "cell_type": "markdown",
   "metadata": {},
   "source": [
    "2. Create 2 random 4x3 arrays and calculate the sum of their crrosponding elements. Use vectorization for sum calculation."
   ]
  },
  {
   "cell_type": "code",
   "execution_count": 5,
   "metadata": {},
   "outputs": [
    {
     "data": {
      "text/plain": [
       "array([[1.11685807, 1.640786  , 0.67379943],\n",
       "       [0.63201248, 0.4438732 , 1.47851396],\n",
       "       [1.21574396, 1.76178515, 1.9422811 ],\n",
       "       [1.18260008, 1.2532044 , 1.3094241 ]])"
      ]
     },
     "execution_count": 5,
     "metadata": {},
     "output_type": "execute_result"
    }
   ],
   "source": [
    "np.random.seed(0)\n",
    "\n",
    "a1 = np.random.rand(4, 3)\n",
    "\n",
    "a2 = np.random.rand(4, 3)\n",
    "\n",
    "np.sum([a1, a2], axis=0)"
   ]
  },
  {
   "cell_type": "markdown",
   "metadata": {},
   "source": [
    "3. Create 2 normally distributed (mean=0, std_dev=1) random 10x5 arrays, stack them vertically, then calculate the average of each column. Use vectorization."
   ]
  },
  {
   "cell_type": "code",
   "execution_count": 7,
   "metadata": {},
   "outputs": [
    {
     "data": {
      "text/plain": [
       "array([-0.4381154 ,  0.49680203,  0.37280637, -0.61665733,  0.78324448])"
      ]
     },
     "execution_count": 7,
     "metadata": {},
     "output_type": "execute_result"
    }
   ],
   "source": [
    "np.random.seed(0)\n",
    "\n",
    "mu = 0\n",
    "\n",
    "sigma = 1\n",
    "\n",
    "a1 = np.random.normal(mu, sigma, size = (10, 5))\n",
    "\n",
    "a2 = np.random.normal(mu, sigma, size = (10, 5))\n",
    "\n",
    "at = np.vstack((a1, a2))\n",
    "\n",
    "np.sum(at, axis = 0) / 10"
   ]
  },
  {
   "cell_type": "markdown",
   "metadata": {},
   "source": [
    "4. Create a normally distributed (mean=0, std_dev=1) random 10x5 array, then calculate the sum of the values in each row. Use vectorization."
   ]
  },
  {
   "cell_type": "code",
   "execution_count": 8,
   "metadata": {},
   "outputs": [
    {
     "data": {
      "text/plain": [
       "array([ 7.25139873,  0.12883298,  2.92489305,  1.0815671 ,  0.49265458,\n",
       "        1.40634698, -2.68338442,  1.89938993, -2.73371788, -2.74001743])"
      ]
     },
     "execution_count": 8,
     "metadata": {},
     "output_type": "execute_result"
    }
   ],
   "source": [
    "np.random.seed(0)\n",
    "\n",
    "mu = 0\n",
    "\n",
    "sigma = 1\n",
    "\n",
    "a = np.random.normal(mu, sigma, size = (10, 5))\n",
    "\n",
    "np.sum(a, axis = 1)"
   ]
  },
  {
   "cell_type": "markdown",
   "metadata": {},
   "source": [
    "5. Create a 5x3 array initialized with random integers 1-10, then reshape it to 3x5, and then calculate its sum (single number fo sum). Use vectorization."
   ]
  },
  {
   "cell_type": "code",
   "execution_count": 9,
   "metadata": {},
   "outputs": [
    {
     "data": {
      "text/plain": [
       "86"
      ]
     },
     "execution_count": 9,
     "metadata": {},
     "output_type": "execute_result"
    }
   ],
   "source": [
    "np.random.seed(0)\n",
    "\n",
    "a = np.random.randint(1, 11, size = (5,3))\n",
    "\n",
    "np.reshape(a, (3, 5))\n",
    "\n",
    "np.sum(a)"
   ]
  },
  {
   "cell_type": "markdown",
   "metadata": {},
   "source": [
    "6. Create a 5x3 array initialized with random integers 1-10, then multiply each value by 2. Use vectorization."
   ]
  },
  {
   "cell_type": "code",
   "execution_count": 10,
   "metadata": {},
   "outputs": [
    {
     "data": {
      "text/plain": [
       "array([[12,  2,  8],\n",
       "       [ 8, 16, 20],\n",
       "       [ 8, 12,  6],\n",
       "       [10, 16, 14],\n",
       "       [18, 18,  4]])"
      ]
     },
     "execution_count": 10,
     "metadata": {},
     "output_type": "execute_result"
    }
   ],
   "source": [
    "np.random.seed(0)\n",
    "\n",
    "a = np.random.randint(1, 11, size = (5,3))\n",
    "\n",
    "np.multiply(a, 2)"
   ]
  },
  {
   "cell_type": "code",
   "execution_count": null,
   "metadata": {},
   "outputs": [],
   "source": []
  }
 ],
 "metadata": {
  "kernelspec": {
   "display_name": "Python 3 (ipykernel)",
   "language": "python",
   "name": "python3"
  },
  "language_info": {
   "codemirror_mode": {
    "name": "ipython",
    "version": 3
   },
   "file_extension": ".py",
   "mimetype": "text/x-python",
   "name": "python",
   "nbconvert_exporter": "python",
   "pygments_lexer": "ipython3",
   "version": "3.9.12"
  }
 },
 "nbformat": 4,
 "nbformat_minor": 2
}
